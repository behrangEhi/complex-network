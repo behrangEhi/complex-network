{
  "nbformat": 4,
  "nbformat_minor": 0,
  "metadata": {
    "colab": {
      "provenance": [],
      "collapsed_sections": [
        "YsimjT6WIDat",
        "CyvUZSMPG8Ac"
      ],
      "authorship_tag": "ABX9TyMaLXQu0Wrrmg944kUSaE0d",
      "include_colab_link": true
    },
    "kernelspec": {
      "name": "python3",
      "display_name": "Python 3"
    },
    "language_info": {
      "name": "python"
    }
  },
  "cells": [
    {
      "cell_type": "markdown",
      "metadata": {
        "id": "view-in-github",
        "colab_type": "text"
      },
      "source": [
        "<a href=\"https://colab.research.google.com/github/behrangEhi/complex-network/blob/main/graph_functions_manipulation_visualization.ipynb\" target=\"_parent\"><img src=\"https://colab.research.google.com/assets/colab-badge.svg\" alt=\"Open In Colab\"/></a>"
      ]
    },
    {
      "cell_type": "markdown",
      "source": [
        "## Install PyTorch Geometric:"
      ],
      "metadata": {
        "id": "YsimjT6WIDat"
      }
    },
    {
      "cell_type": "code",
      "source": [
        "! pip install torch-geometric"
      ],
      "metadata": {
        "id": "2f4o1yB0IFFg"
      },
      "execution_count": null,
      "outputs": []
    },
    {
      "cell_type": "markdown",
      "source": [
        "## Import libraries"
      ],
      "metadata": {
        "id": "CyvUZSMPG8Ac"
      }
    },
    {
      "cell_type": "code",
      "execution_count": 5,
      "metadata": {
        "id": "HuKPYpbq3mVj"
      },
      "outputs": [],
      "source": [
        "import torch\n",
        "import networkx as nx\n",
        "import matplotlib.pyplot as plt\n",
        "from torch_geometric.datasets import Planetoid"
      ]
    },
    {
      "cell_type": "markdown",
      "source": [
        "## Load popular graph datasets"
      ],
      "metadata": {
        "id": "0Jxc6PtwIdvY"
      }
    },
    {
      "cell_type": "code",
      "source": [
        "dataset = Planetoid(root='/tmp', name='cora') # Add more datasets as need"
      ],
      "metadata": {
        "colab": {
          "base_uri": "https://localhost:8080/"
        },
        "id": "PXLMgGSoIvYT",
        "outputId": "59e76690-65a5-4bfa-b573-0e8884b206d9"
      },
      "execution_count": 6,
      "outputs": [
        {
          "output_type": "stream",
          "name": "stderr",
          "text": [
            "Downloading https://github.com/kimiyoung/planetoid/raw/master/data/ind.cora.x\n",
            "Downloading https://github.com/kimiyoung/planetoid/raw/master/data/ind.cora.tx\n",
            "Downloading https://github.com/kimiyoung/planetoid/raw/master/data/ind.cora.allx\n",
            "Downloading https://github.com/kimiyoung/planetoid/raw/master/data/ind.cora.y\n",
            "Downloading https://github.com/kimiyoung/planetoid/raw/master/data/ind.cora.ty\n",
            "Downloading https://github.com/kimiyoung/planetoid/raw/master/data/ind.cora.ally\n",
            "Downloading https://github.com/kimiyoung/planetoid/raw/master/data/ind.cora.graph\n",
            "Downloading https://github.com/kimiyoung/planetoid/raw/master/data/ind.cora.test.index\n",
            "Processing...\n",
            "Done!\n"
          ]
        }
      ]
    },
    {
      "cell_type": "markdown",
      "source": [
        "## Implement basic graph visualization"
      ],
      "metadata": {
        "id": "jr1jhdJ1SJ4K"
      }
    },
    {
      "cell_type": "code",
      "source": [
        "def visualize_graph(data):\n",
        "  G = nx.Graph()\n",
        "  G.add_nodes_from(range(data.num_nodes))\n",
        "  edge_list = data.edge_index.T.tolist()\n",
        "  G.add_edges_from(edge_list)\n",
        "\n",
        "  pos = nx.spring_layout(G)\n",
        "  plt.figure(figsize=(8, 6))\n",
        "  nx.draw(G, pos, with_labels=True, node_color='skyblue', node_size=800, edge_color='gray', linewidths=1, font_size=10)\n",
        "  plt.title('Graph Visualization')\n",
        "  plt.show()\n",
        "\n",
        "data = dataset[0]  # Select the first graph in the dataset\n",
        "visualize_graph(data)"
      ],
      "metadata": {
        "id": "ZrECRTl3TGpB"
      },
      "execution_count": null,
      "outputs": []
    },
    {
      "cell_type": "markdown",
      "source": [
        "## Perform common graph operations"
      ],
      "metadata": {
        "id": "FFJpV_n6XDcy"
      }
    },
    {
      "cell_type": "code",
      "source": [
        "degrees = torch.zeros(data.num_nodes)\n",
        "for edge in data.edge_index.T:\n",
        "    degrees[edge[0]] += 1\n",
        "    degrees[edge[1]] += 1\n",
        "\n",
        "# Print node degrees\n",
        "print(f\"Node Degrees: {degrees}\")"
      ],
      "metadata": {
        "id": "iC2Vu_g7XSsy"
      },
      "execution_count": null,
      "outputs": []
    }
  ]
}