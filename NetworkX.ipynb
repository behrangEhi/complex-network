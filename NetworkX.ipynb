{
  "nbformat": 4,
  "nbformat_minor": 0,
  "metadata": {
    "colab": {
      "provenance": [],
      "authorship_tag": "ABX9TyN20i7uMrkUpdtvahDMPv/F",
      "include_colab_link": true
    },
    "kernelspec": {
      "name": "python3",
      "display_name": "Python 3"
    },
    "language_info": {
      "name": "python"
    }
  },
  "cells": [
    {
      "cell_type": "markdown",
      "metadata": {
        "id": "view-in-github",
        "colab_type": "text"
      },
      "source": [
        "<a href=\"https://colab.research.google.com/github/behrangEhi/complex-network/blob/main/NetworkX.ipynb\" target=\"_parent\"><img src=\"https://colab.research.google.com/assets/colab-badge.svg\" alt=\"Open In Colab\"/></a>"
      ]
    },
    {
      "cell_type": "markdown",
      "source": [
        "# Introduction to NetworkX\n",
        "\n",
        "NetworkX is a powerful Python library for creating, manipulating, and studying the structure and dynamics of complex networks. It provides a simple interface for representing various types of networks, such as undirected, directed, and weighted graphs, as well as tools for analyzing their properties and visualizing their structure.\n",
        "\n",
        "NetworkX is particularly useful for researchers, data scientists, and engineers working with network-based data, such as social networks, transportation networks, communication networks, and biological networks. It can be used for a wide range of applications, including network analysis, graph algorithms, network visualization, and network modeling."
      ],
      "metadata": {
        "id": "5EeRk0BHs-ko"
      }
    },
    {
      "cell_type": "markdown",
      "source": [
        "## Key Features and Capabilities\n",
        "\n",
        "**1.Graph Creation and Manipulation:**\n",
        "* NetworkX provides a flexible and intuitive interface for creating and manipulating graphs. You can easily add or remove nodes and edges, modify edge attributes, and convert between different graph representations.\n",
        "\n",
        "**2. Graph Algorithms:**\n",
        "* NetworkX includes a rich collection of graph algorithms for various tasks, such as finding shortest paths, computing centrality measures, detecting communities, and analyzing network flows.\n",
        "\n",
        "**3. Network Analysis:**\n",
        "* NetworkX offers a wide range of functions for analyzing network properties, such as degree distribution, clustering coefficients, and connectivity measures. These tools can help you gain insights into the structure and dynamics of your network.\n",
        "\n",
        "**4. Network Visualization:**\n",
        "* NetworkX integrates with popular visualization libraries like Matplotlib and PyViz, allowing you to create informative and visually appealing representations of your networks.\n",
        "\n",
        "**5. Interoperability:**\n",
        "* NetworkX can read and write data in various formats, including GraphML, GML, and edge lists, making it easy to work with data from different sources and share your results with others.\n",
        "\n",
        "**6. Parallel Computing:**\n",
        "* NetworkX supports parallel computing for certain algorithms, enabling you to leverage multiple processors or cores to speed up computationally intensive tasks."
      ],
      "metadata": {
        "id": "XCqSC-ejtJI_"
      }
    },
    {
      "cell_type": "markdown",
      "source": [
        "## Creating and Manipulating Graphs\n",
        "* NetworkX supports different types of graphs, including directed, undirected, weighted, and unweighted graphs. Here's how you can create and manipulate these graphs:"
      ],
      "metadata": {
        "id": "Igc2LjSMt9IX"
      }
    },
    {
      "cell_type": "markdown",
      "source": [
        "### Undirected Unweighted Graph"
      ],
      "metadata": {
        "id": "iUViGZYBuHwR"
      }
    },
    {
      "cell_type": "code",
      "source": [
        "import networkx as nx\n",
        "\n",
        "# Create an undirected unweighted graph\n",
        "G = nx.Graph()\n",
        "\n",
        "# Add nodes\n",
        "G.add_nodes_from([1, 2, 3, 4, 5])\n",
        "\n",
        "# Add edges\n",
        "G.add_edges_from([(1, 2), (2, 3), (3, 4), (4, 5), (1, 5)])\n",
        "\n",
        "# Print the graph\n",
        "print(G.nodes())\n",
        "print(G.edges())"
      ],
      "metadata": {
        "colab": {
          "base_uri": "https://localhost:8080/"
        },
        "id": "AgX2bZuauJLh",
        "outputId": "12036340-aca9-449b-be16-565371da1a66"
      },
      "execution_count": 77,
      "outputs": [
        {
          "output_type": "stream",
          "name": "stdout",
          "text": [
            "[1, 2, 3, 4, 5]\n",
            "[(1, 2), (1, 5), (2, 3), (3, 4), (4, 5)]\n"
          ]
        }
      ]
    }
  ]
}